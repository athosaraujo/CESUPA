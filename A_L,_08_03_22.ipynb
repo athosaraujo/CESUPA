{
  "nbformat": 4,
  "nbformat_minor": 0,
  "metadata": {
    "colab": {
      "name": "A.L, 08/03/22",
      "provenance": [],
      "authorship_tag": "ABX9TyOoUDWCw5AMdy1iomxkCYWr",
      "include_colab_link": true
    },
    "kernelspec": {
      "name": "python3",
      "display_name": "Python 3"
    },
    "language_info": {
      "name": "python"
    }
  },
  "cells": [
    {
      "cell_type": "markdown",
      "metadata": {
        "id": "view-in-github",
        "colab_type": "text"
      },
      "source": [
        "<a href=\"https://colab.research.google.com/github/athosaraujo/CESUPA/blob/main/A_L%2C_08_03_22.ipynb\" target=\"_parent\"><img src=\"https://colab.research.google.com/assets/colab-badge.svg\" alt=\"Open In Colab\"/></a>"
      ]
    },
    {
      "cell_type": "code",
      "source": [
        "import numpy as np\n",
        "from vectorplot import vp"
      ],
      "metadata": {
        "id": "W0B0xTjEJgj3"
      },
      "execution_count": null,
      "outputs": []
    },
    {
      "cell_type": "code",
      "source": [
        "x = [1,2]\n",
        "y = [2,1] "
      ],
      "metadata": {
        "id": "qj0sVi2TJhrK"
      },
      "execution_count": null,
      "outputs": []
    },
    {
      "cell_type": "code",
      "source": [
        "x=np.array(x)\n",
        "y=np.array(y)\n"
      ],
      "metadata": {
        "id": "Mmd6knBNOiBg"
      },
      "execution_count": null,
      "outputs": []
    },
    {
      "cell_type": "code",
      "source": [
        "s=x+y\n"
      ],
      "metadata": {
        "id": "HynUSAvHLuIq"
      },
      "execution_count": null,
      "outputs": []
    },
    {
      "cell_type": "code",
      "source": [
        "x_a='#7223FA'\n",
        "y_b='#F0AF22'\n",
        "s_c='#F01300'"
      ],
      "metadata": {
        "id": "N8l6ZSsILv5w"
      },
      "execution_count": null,
      "outputs": []
    },
    {
      "cell_type": "code",
      "source": [
        "vp.plot2d ([x,y,s],[x_a,y_b,s_c],[-3,3,-3,3])"
      ],
      "metadata": {
        "colab": {
          "base_uri": "https://localhost:8080/",
          "height": 269
        },
        "id": "0KT-CoA-RAUj",
        "outputId": "3cd20b23-eb32-4d6b-c4a5-6538dbbbdef5"
      },
      "execution_count": null,
      "outputs": [
        {
          "output_type": "display_data",
          "data": {
            "image/png": "[encoded data removed]",
            "text/plain": [
              "<Figure size 432x288 with 1 Axes>"
            ]
          },
          "metadata": {
            "needs_background": "light"
          }
        }
      ]
    }
  ]
}